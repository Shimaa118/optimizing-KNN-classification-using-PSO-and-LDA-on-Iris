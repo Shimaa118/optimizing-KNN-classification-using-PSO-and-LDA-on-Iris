{
  "cells": [
    {
      "cell_type": "code",
      "execution_count": null,
      "metadata": {
        "colab": {
          "base_uri": "https://localhost:8080/"
        },
        "id": "vIS1E9rF2LZt",
        "outputId": "56cb3d38-d309-40b4-e4f3-1ade62ada303"
      },
      "outputs": [
        {
          "name": "stdout",
          "output_type": "stream",
          "text": [
            "Collecting pyswarm\n",
            "  Downloading pyswarm-0.6.tar.gz (4.3 kB)\n",
            "  Preparing metadata (setup.py) ... \u001b[?25l\u001b[?25hdone\n",
            "Requirement already satisfied: numpy in /usr/local/lib/python3.10/dist-packages (from pyswarm) (1.25.2)\n",
            "Building wheels for collected packages: pyswarm\n",
            "  Building wheel for pyswarm (setup.py) ... \u001b[?25l\u001b[?25hdone\n",
            "  Created wheel for pyswarm: filename=pyswarm-0.6-py3-none-any.whl size=4464 sha256=adf06ad16fb4b7be9c588b45489eb34e7563926cf2fe87bed7417fa144c4cf5b\n",
            "  Stored in directory: /root/.cache/pip/wheels/71/67/40/62fa158f497f942277cbab8199b05cb61c571ab324e67ad0d6\n",
            "Successfully built pyswarm\n",
            "Installing collected packages: pyswarm\n",
            "Successfully installed pyswarm-0.6\n"
          ]
        }
      ],
      "source": [
        "! pip install pyswarm"
      ]
    },
    {
      "cell_type": "code",
      "execution_count": null,
      "metadata": {
        "id": "kM7WPYhZAI_y"
      },
      "outputs": [],
      "source": [
        "import numpy as np\n",
        "import matplotlib.pyplot as plt\n",
        "from sklearn.datasets import load_iris\n",
        "from sklearn.model_selection import train_test_split\n",
        "from sklearn.metrics import accuracy_score\n",
        "from sklearn.discriminant_analysis import LinearDiscriminantAnalysis as LDA\n",
        "from pyswarm import pso\n",
        "from collections import Counter\n",
        "\n",
        "# Load dataset\n",
        "iris = load_iris()\n",
        "X = iris.data\n",
        "y = iris.target\n",
        "\n",
        "X_train, X_test, y_train, y_test = train_test_split(X, y, test_size=0.2, random_state=42)"
      ]
    },
    {
      "cell_type": "code",
      "execution_count": null,
      "metadata": {
        "id": "cCy3wGPLAKyh"
      },
      "outputs": [],
      "source": [
        "class KNNFromScratch:\n",
        "    def __init__(self, k=3, metric='euclidean'):\n",
        "        self.k = k\n",
        "        self.metric = metric\n",
        "\n",
        "    def fit(self, X_train, y_train):\n",
        "        self.X_train = X_train\n",
        "        self.y_train = y_train\n",
        "\n",
        "    def predict(self, X_test):\n",
        "        predictions = [self._predict(x) for x in X_test]\n",
        "        return np.array(predictions)\n",
        "\n",
        "    def _predict(self, x):\n",
        "        distances = [self._distance(x, x_train) for x_train in self.X_train]\n",
        "        k_indices = np.argsort(distances)[:self.k]\n",
        "        k_nearest_labels = [self.y_train[i] for i in k_indices]\n",
        "        most_common = Counter(k_nearest_labels).most_common(1)\n",
        "        return most_common[0][0]\n",
        "\n",
        "    def _distance(self, a, b):\n",
        "        if self.metric == 'euclidean':\n",
        "            return np.sqrt(np.sum((a - b) ** 2))\n",
        "        elif self.metric == 'manhattan':\n",
        "            return np.sum(np.abs(a - b))\n",
        "        elif self.metric == 'minkowski':\n",
        "            p = 3\n",
        "            return np.sum(np.abs(a - b) ** p) ** (1 / p)\n",
        "        else:\n",
        "            raise ValueError(\"Unsupported metric\")"
      ]
    },
    {
      "cell_type": "code",
      "execution_count": null,
      "metadata": {
        "id": "Qezak88aAK0c"
      },
      "outputs": [],
      "source": [
        "\n",
        "def objective_function(params):\n",
        "    k = int(params[0])\n",
        "    if k < 1:\n",
        "        k = 1\n",
        "    metric_index = int(params[1])\n",
        "    metrics = ['euclidean', 'manhattan', 'minkowski']\n",
        "    metric = metrics[metric_index % len(metrics)]\n",
        "\n",
        "    selected_features = [i for i, p in enumerate(params[2:]) if round(p) == 1]\n",
        "    if len(selected_features) == 0:\n",
        "        return 1.0\n",
        "\n",
        "    X_train_selected = X_train[:, selected_features]\n",
        "    X_test_selected = X_test[:, selected_features]\n",
        "\n",
        "    model = KNNFromScratch(k=k, metric=metric)\n",
        "    model.fit(X_train_selected, y_train)\n",
        "    predictions = model.predict(X_test_selected)\n",
        "    accuracy = accuracy_score(y_test, predictions)\n",
        "\n",
        "    return 1 - accuracy\n"
      ]
    },
    {
      "cell_type": "code",
      "execution_count": null,
      "metadata": {
        "colab": {
          "base_uri": "https://localhost:8080/"
        },
        "id": "ASRQuW1NAK2q",
        "outputId": "f16804b8-9999-4898-f2eb-4b3a50bbeed3"
      },
      "outputs": [
        {
          "name": "stdout",
          "output_type": "stream",
          "text": [
            "Stopping search: maximum iterations reached --> 100\n",
            "Best Parameters: [23.53215137  0.33963021  0.80532019  0.98200729  0.5793569   0.92869813]\n",
            "Best Score: 1.0\n",
            "Selected Features: [0, 1, 2, 3]\n"
          ]
        }
      ],
      "source": [
        "n_features = X.shape[1]\n",
        "\n",
        "# Bounds for k, metric index, and feature selection (0 or 1 for each feature)\n",
        "lb = [1, 0] + [0]*n_features\n",
        "ub = [30, 2] + [1]*n_features\n",
        "\n",
        "# Run PSO for feature selection\n",
        "best_params, best_score = pso(objective_function, lb, ub, swarmsize=50, maxiter=100)\n",
        "\n",
        "print('Best Parameters:', best_params)\n",
        "print('Best Score:', 1 - best_score)\n",
        "\n",
        "k_opt = int(round(best_params[0]))\n",
        "metric_index_opt = int(round(best_params[1]))\n",
        "metrics = ['euclidean', 'manhattan', 'minkowski']\n",
        "metric_opt = metrics[metric_index_opt]\n",
        "selected_features = [i for i, p in enumerate(best_params[2:]) if round(p) == 1]\n",
        "\n",
        "print('Selected Features:', selected_features)"
      ]
    },
    {
      "cell_type": "code",
      "execution_count": null,
      "metadata": {
        "colab": {
          "base_uri": "https://localhost:8080/"
        },
        "id": "dx9vNpAxAK4w",
        "outputId": "1efb981c-da4d-4ca2-ccd2-2301160b8a9a"
      },
      "outputs": [
        {
          "name": "stdout",
          "output_type": "stream",
          "text": [
            "Final Model Accuracy: 1.0\n"
          ]
        }
      ],
      "source": [
        "# Apply LDA for feature reduction\n",
        "lda = LDA(n_components=2)  # Reduce to 2 components for visualization\n",
        "X_train_selected = X_train[:, selected_features]\n",
        "X_test_selected = X_test[:, selected_features]\n",
        "\n",
        "X_train_reduced = lda.fit_transform(X_train_selected, y_train)\n",
        "X_test_reduced = lda.transform(X_test_selected)\n",
        "\n",
        "# Train k-NN with selected and reduced features\n",
        "model = KNNFromScratch(k=k_opt, metric=metric_opt)\n",
        "model.fit(X_train_reduced, y_train)\n",
        "predictions = model.predict(X_test_reduced)\n",
        "accuracy = accuracy_score(y_test, predictions)\n",
        "\n",
        "print('Final Model Accuracy:', accuracy)"
      ]
    },
    {
      "cell_type": "code",
      "execution_count": null,
      "metadata": {
        "colab": {
          "base_uri": "https://localhost:8080/",
          "height": 564
        },
        "id": "gVoBbefmAhw6",
        "outputId": "5946038a-00f4-4344-c220-ee4076b46502"
      },
      "outputs": [
        {
          "data": {
            "image/png": "[encoded data removed]",
            "text/plain": [
              "<Figure size 1000x600 with 1 Axes>"
            ]
          },
          "metadata": {},
          "output_type": "display_data"
        }
      ],
      "source": [
        "# Plot decision boundaries on the test set\n",
        "\n",
        "x_min, x_max = X_test_reduced[:, 0].min() - 1, X_test_reduced[:, 0].max() + 1\n",
        "y_min, y_max = X_test_reduced[:, 1].min() - 1, X_test_reduced[:, 1].max() + 1\n",
        "xx, yy = np.meshgrid(np.arange(x_min, x_max, 0.02), np.arange(y_min, y_max, 0.02))\n",
        "\n",
        "Z = model.predict(np.c_[xx.ravel(), yy.ravel()])\n",
        "Z = Z.reshape(xx.shape)\n",
        "\n",
        "plt.figure(figsize=(10, 6))\n",
        "plt.contourf(xx, yy, Z, alpha=0.4, cmap=plt.cm.RdYlBu)\n",
        "plt.scatter(X_test_reduced[:, 0], X_test_reduced[:, 1], c=y_test, edgecolor='k', s=20, cmap=plt.cm.RdYlBu)\n",
        "\n",
        "for i, target_name in enumerate(iris.target_names):\n",
        "    plt.scatter([], [], label=target_name)\n",
        "\n",
        "plt.title('LDA of IRIS dataset with k-NN decision boundaries (Test Set)')\n",
        "plt.xlabel('LD1')\n",
        "plt.ylabel('LD2')\n",
        "plt.legend()\n",
        "plt.show()\n"
      ]
    }
  ],
  "metadata": {
    "accelerator": "GPU",
    "colab": {
      "gpuType": "T4",
      "provenance": []
    },
    "kernelspec": {
      "display_name": "Python 3",
      "name": "python3"
    },
    "language_info": {
      "name": "python"
    }
  },
  "nbformat": 4,
  "nbformat_minor": 0
}
